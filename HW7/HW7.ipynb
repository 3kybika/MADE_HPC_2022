{
 "cells": [
  {
   "cell_type": "markdown",
   "id": "18398624",
   "metadata": {},
   "source": [
    "# Домашнее задание 7:\n",
    "\n",
    "Зафиксируйте какую-либо многомерную скалярную функцию и реализуйте для неё анализ чувствительности по методу Соболя на Python с использованием библиотеки SALib.\n",
    "\n",
    "1) Проведите анализ чувствительности, проверьте сходимость, измерьте тайминги  \n",
    "2) Ускорьте вычисления Python с использованием любой из имеющихся возможностей (PyBind11, ctypes, cython, numba)  \n",
    "3) Попробуйте добавить параллелизм в вычисления  \n",
    "4) Оформите и представьте результаты  "
   ]
  },
  {
   "cell_type": "code",
   "execution_count": 1,
   "id": "ef696741",
   "metadata": {},
   "outputs": [],
   "source": [
    "import time\n",
    "import os\n",
    "import math\n",
    "import multiprocessing as mp\n",
    "import numba\n",
    "import numpy as np\n",
    "\n",
    "from SALib.sample import saltelli\n",
    "from SALib.analyze import sobol\n",
    "\n",
    "import matplotlib.pyplot as plt\n",
    "import seaborn as sns\n",
    "from matplotlib import rc\n",
    "sns.set_style(\"whitegrid\")\n",
    "sns.set_palette(\"colorblind\")\n",
    "sns.set(\n",
    "    rc={\n",
    "        'figure.figsize': (12, 8),\n",
    "    }\n",
    ")\n"
   ]
  },
  {
   "cell_type": "code",
   "execution_count": 84,
   "id": "c151c719",
   "metadata": {},
   "outputs": [],
   "source": [
    "def make_sensitivity_analysis(problem, analysing_func, samples_num):\n",
    "    #samples generation\n",
    "    start = time.time()\n",
    "    samples = saltelli.sample(cfg, samples_num)\n",
    "    sampling_time = time.time() - start\n",
    "    print(\"Sampling time:         {:10.4f}\".format(sampling_time))\n",
    "\n",
    "    # model evaluation\n",
    "    y = np.zeros([samples.shape[0]])\n",
    "    start = time.time()\n",
    "    for i, x in enumerate(samples):\n",
    "        y[i] = analysing_func(x)\n",
    "    eval_time = time.time() - start\n",
    "    print(\"Model evaluation time: {:10.4f}\".format(eval_time))\n",
    "\n",
    "    # sobol analyze\n",
    "    start = time.time()\n",
    "    sa_result = sobol.analyze(cfg, y, parallel=False, print_to_console=True)\n",
    "    sa_time = time.time() - start\n",
    "    print(\"Analysis time:         {:10.4f}\".format(sa_time))\n",
    "\n",
    "    return sa_result, sampling_time, eval_time, sa_time\n",
    "\n",
    "\n",
    "def print_report(sa_result, sampling_time, eval_time, sa_time):\n",
    "    print(\"Sampling time:         {:10.4f}\".format(sampling_time))\n",
    "    print(\"Model evaluation time: {:10.4f}\".format(eval_time))\n",
    "    print(\"Analysis time:         {:10.4f}\".format(sa_time))\n",
    "\n",
    "    sa_result.plot()"
   ]
  },
  {
   "cell_type": "code",
   "execution_count": 85,
   "id": "ec838b32",
   "metadata": {},
   "outputs": [],
   "source": [
    "SAMPLES_NUM = 2 ** 20 # 1_000_000"
   ]
  },
  {
   "cell_type": "markdown",
   "id": "47d9024e",
   "metadata": {},
   "source": [
    "1. Проведите анализ чувствительности, проверьте сходимость, измерьте тайминги:"
   ]
  },
  {
   "cell_type": "code",
   "execution_count": 86,
   "id": "a77a4bc3",
   "metadata": {},
   "outputs": [],
   "source": [
    "def func_1(x):\n",
    "    return (\n",
    "        np.sin(x[0]) * (np.cos(x[2]) ** 3) +\n",
    "        np.cos(x[1]) * (np.sin(x[1]) ** 2) +\n",
    "        np.sin(x[2]) * (np.cos(x[0]) ** 4)\n",
    "    )\n",
    "\n",
    "cfg = {\n",
    "    'num_vars': 3,\n",
    "    'names': ['x0', 'x1', 'x2'],\n",
    "    'bounds': [\n",
    "        [-math.pi, math.pi],\n",
    "        [-math.pi, math.pi],\n",
    "        [-math.pi, math.pi]\n",
    "    ]\n",
    "}\n"
   ]
  },
  {
   "cell_type": "code",
   "execution_count": 87,
   "id": "565aaab7",
   "metadata": {},
   "outputs": [
    {
     "name": "stdout",
     "output_type": "stream",
     "text": [
      "Sampling time:            34.1898\n",
      "Model evaluation time:    60.2298\n",
      "          ST   ST_conf\n",
      "x0  0.626374  0.001960\n",
      "x1  0.175824  0.000460\n",
      "x2  0.824178  0.001897\n",
      "              S1   S1_conf\n",
      "x0  4.303128e-07  0.001964\n",
      "x1  1.758242e-01  0.001151\n",
      "x2  1.978026e-01  0.002351\n",
      "                    S2   S2_conf\n",
      "(x0, x1) -2.472092e-06  0.002528\n",
      "(x0, x2)  6.263732e-01  0.003342\n",
      "(x1, x2)  6.100721e-09  0.001899\n",
      "Analysis time:            49.7970\n"
     ]
    },
    {
     "data": {
      "text/plain": [
       "array([<AxesSubplot:>, <AxesSubplot:>, <AxesSubplot:>], dtype=object)"
      ]
     },
     "execution_count": 87,
     "metadata": {},
     "output_type": "execute_result"
    },
    {
     "data": {
      "image/png": "[encoded data removed]",
      "text/plain": [
       "<Figure size 864x576 with 3 Axes>"
      ]
     },
     "metadata": {},
     "output_type": "display_data"
    }
   ],
   "source": [
    "sa_result, sampling_time, eval_time_default, sa_time = \\\n",
    "    make_sensitivity_analysis(cfg, func_1, SAMPLES_NUM)\n",
    "\n",
    "sa_result.plot()"
   ]
  },
  {
   "cell_type": "markdown",
   "id": "d0fa446c",
   "metadata": {},
   "source": [
    "2 Ускорьте вычисления Python с использованием любой из имеющихся возможностей (PyBind11, ctypes, cython, __numba__):"
   ]
  },
  {
   "cell_type": "code",
   "execution_count": 88,
   "id": "d7586bdd",
   "metadata": {},
   "outputs": [],
   "source": [
    "def evaluate_samples(cfg, analysing_func, samples_num):\n",
    "    #samples generation\n",
    "    start = time.time()\n",
    "    samples = saltelli.sample(cfg, samples_num)\n",
    "    sampling_time = time.time() - start\n",
    "    print(\"Sampling time:         {:10.4f}\".format(sampling_time))\n",
    "\n",
    "    # model evaluation\n",
    "    y = np.zeros([samples.shape[0]])\n",
    "    start = time.time()\n",
    "    for i, x in enumerate(samples):\n",
    "        y[i] = analysing_func(x)\n",
    "    eval_time = time.time() - start\n",
    "    print(\"Model evaluation time: {:10.4f}\".format(eval_time))\n",
    "    \n",
    "    return sampling_time, eval_time, (x, y)"
   ]
  },
  {
   "cell_type": "code",
   "execution_count": 89,
   "id": "f66bcf12",
   "metadata": {},
   "outputs": [],
   "source": [
    "@numba.njit\n",
    "def func_2(x):\n",
    "    return (\n",
    "        np.sin(x[0]) * (np.cos(x[2]) ** 3) +\n",
    "        np.cos(x[1]) * (np.sin(x[1]) ** 2) +\n",
    "        np.sin(x[2]) * (np.cos(x[0]) ** 4)\n",
    "    )"
   ]
  },
  {
   "cell_type": "code",
   "execution_count": 90,
   "id": "3169e8ee",
   "metadata": {},
   "outputs": [
    {
     "name": "stdout",
     "output_type": "stream",
     "text": [
      "Sampling time:            33.7859\n",
      "Model evaluation time:     3.1585\n"
     ]
    }
   ],
   "source": [
    "sampling_time, eval_time_numba, _ = evaluate_samples(cfg, func_2, SAMPLES_NUM)"
   ]
  },
  {
   "cell_type": "markdown",
   "id": "dfba992a",
   "metadata": {},
   "source": [
    "3. Попробуйте добавить параллелизм в вычисления:"
   ]
  },
  {
   "cell_type": "code",
   "execution_count": 91,
   "id": "ba4ed120",
   "metadata": {},
   "outputs": [],
   "source": [
    "# parallelism via multithreading\n",
    "def evaluate_samples_parallel(cfg, analysing_func, samples_num):\n",
    "    #samples generation\n",
    "    start = time.time()\n",
    "    samples = saltelli.sample(cfg, samples_num)\n",
    "    sampling_time = time.time() - start\n",
    "    print(\"Sampling time:         {:10.4f}\".format(sampling_time))\n",
    "    \n",
    "    num_procs = os.cpu_count()\n",
    "    num_procs = 8\n",
    "    \n",
    "    # model evaluation\n",
    "    y = np.zeros([samples.shape[0]])\n",
    "    start = time.time()\n",
    "    with mp.Pool(num_procs) as pool:\n",
    "        y = pool.map(analysing_func, samples.tolist())\n",
    "        \n",
    "        \n",
    "    eval_time = time.time() - start\n",
    "    print(\"Model evaluation time: {:10.4f}\".format(eval_time))\n",
    "    \n",
    "    return sampling_time, eval_time, (samples, y)"
   ]
  },
  {
   "cell_type": "code",
   "execution_count": 92,
   "id": "f9012d43",
   "metadata": {},
   "outputs": [
    {
     "name": "stdout",
     "output_type": "stream",
     "text": [
      "Sampling time:            34.9080\n",
      "Model evaluation time:    15.9963\n"
     ]
    }
   ],
   "source": [
    "sampling_time, eval_time_df_mp, (x, y) = evaluate_samples_parallel(cfg, func_1, SAMPLES_NUM)"
   ]
  },
  {
   "cell_type": "code",
   "execution_count": 93,
   "id": "3af781da",
   "metadata": {},
   "outputs": [
    {
     "data": {
      "text/plain": [
       "[]"
      ]
     },
     "execution_count": 93,
     "metadata": {},
     "output_type": "execute_result"
    }
   ],
   "source": [
    "[(x, y, func_1(x)) for x, y in zip(x, y) if func_1(x) != y]"
   ]
  },
  {
   "cell_type": "code",
   "execution_count": 94,
   "id": "c301ab27",
   "metadata": {},
   "outputs": [
    {
     "name": "stdout",
     "output_type": "stream",
     "text": [
      "Sampling time:            33.7773\n"
     ]
    },
    {
     "name": "stderr",
     "output_type": "stream",
     "text": [
      "/home/alex/anaconda3/envs/tf-gpu/lib/python3.6/site-packages/numba/core/ir_utils.py:2119: NumbaPendingDeprecationWarning: \n",
      "Encountered the use of a type that is scheduled for deprecation: type 'reflected list' found for argument 'x' of function 'func_2'.\n",
      "\n",
      "For more information visit https://numba.pydata.org/numba-doc/latest/reference/deprecation.html#deprecation-of-reflection-for-list-and-set-types\n",
      "\n",
      "File \"<ipython-input-89-1be68fe84ecf>\", line 2:\n",
      "@numba.njit\n",
      "def func_2(x):\n",
      "^\n",
      "\n",
      "  warnings.warn(NumbaPendingDeprecationWarning(msg, loc=loc))\n",
      "/home/alex/anaconda3/envs/tf-gpu/lib/python3.6/site-packages/numba/core/ir_utils.py:2119: NumbaPendingDeprecationWarning: \n",
      "Encountered the use of a type that is scheduled for deprecation: type 'reflected list' found for argument 'x' of function 'func_2'.\n",
      "\n",
      "For more information visit https://numba.pydata.org/numba-doc/latest/reference/deprecation.html#deprecation-of-reflection-for-list-and-set-types\n",
      "\n",
      "File \"<ipython-input-89-1be68fe84ecf>\", line 2:\n",
      "@numba.njit\n",
      "def func_2(x):\n",
      "^\n",
      "\n",
      "  warnings.warn(NumbaPendingDeprecationWarning(msg, loc=loc))\n",
      "/home/alex/anaconda3/envs/tf-gpu/lib/python3.6/site-packages/numba/core/ir_utils.py:2119: NumbaPendingDeprecationWarning: \n",
      "Encountered the use of a type that is scheduled for deprecation: type 'reflected list' found for argument 'x' of function 'func_2'.\n",
      "\n",
      "For more information visit https://numba.pydata.org/numba-doc/latest/reference/deprecation.html#deprecation-of-reflection-for-list-and-set-types\n",
      "\n",
      "File \"<ipython-input-89-1be68fe84ecf>\", line 2:\n",
      "@numba.njit\n",
      "def func_2(x):\n",
      "^\n",
      "\n",
      "  warnings.warn(NumbaPendingDeprecationWarning(msg, loc=loc))\n",
      "/home/alex/anaconda3/envs/tf-gpu/lib/python3.6/site-packages/numba/core/ir_utils.py:2119: NumbaPendingDeprecationWarning: \n",
      "Encountered the use of a type that is scheduled for deprecation: type 'reflected list' found for argument 'x' of function 'func_2'.\n",
      "\n",
      "For more information visit https://numba.pydata.org/numba-doc/latest/reference/deprecation.html#deprecation-of-reflection-for-list-and-set-types\n",
      "\n",
      "File \"<ipython-input-89-1be68fe84ecf>\", line 2:\n",
      "@numba.njit\n",
      "def func_2(x):\n",
      "^\n",
      "\n",
      "  warnings.warn(NumbaPendingDeprecationWarning(msg, loc=loc))\n",
      "/home/alex/anaconda3/envs/tf-gpu/lib/python3.6/site-packages/numba/core/ir_utils.py:2119: NumbaPendingDeprecationWarning: \n",
      "Encountered the use of a type that is scheduled for deprecation: type 'reflected list' found for argument 'x' of function 'func_2'.\n",
      "\n",
      "For more information visit https://numba.pydata.org/numba-doc/latest/reference/deprecation.html#deprecation-of-reflection-for-list-and-set-types\n",
      "\n",
      "File \"<ipython-input-89-1be68fe84ecf>\", line 2:\n",
      "@numba.njit\n",
      "def func_2(x):\n",
      "^\n",
      "\n",
      "  warnings.warn(NumbaPendingDeprecationWarning(msg, loc=loc))\n",
      "/home/alex/anaconda3/envs/tf-gpu/lib/python3.6/site-packages/numba/core/ir_utils.py:2119: NumbaPendingDeprecationWarning: \n",
      "Encountered the use of a type that is scheduled for deprecation: type 'reflected list' found for argument 'x' of function 'func_2'.\n",
      "\n",
      "For more information visit https://numba.pydata.org/numba-doc/latest/reference/deprecation.html#deprecation-of-reflection-for-list-and-set-types\n",
      "\n",
      "File \"<ipython-input-89-1be68fe84ecf>\", line 2:\n",
      "@numba.njit\n",
      "def func_2(x):\n",
      "^\n",
      "\n",
      "  warnings.warn(NumbaPendingDeprecationWarning(msg, loc=loc))\n",
      "/home/alex/anaconda3/envs/tf-gpu/lib/python3.6/site-packages/numba/core/ir_utils.py:2119: NumbaPendingDeprecationWarning: \n",
      "Encountered the use of a type that is scheduled for deprecation: type 'reflected list' found for argument 'x' of function 'func_2'.\n",
      "\n",
      "For more information visit https://numba.pydata.org/numba-doc/latest/reference/deprecation.html#deprecation-of-reflection-for-list-and-set-types\n",
      "\n",
      "File \"<ipython-input-89-1be68fe84ecf>\", line 2:\n",
      "@numba.njit\n",
      "def func_2(x):\n",
      "^\n",
      "\n",
      "  warnings.warn(NumbaPendingDeprecationWarning(msg, loc=loc))\n",
      "/home/alex/anaconda3/envs/tf-gpu/lib/python3.6/site-packages/numba/core/ir_utils.py:2119: NumbaPendingDeprecationWarning: \n",
      "Encountered the use of a type that is scheduled for deprecation: type 'reflected list' found for argument 'x' of function 'func_2'.\n",
      "\n",
      "For more information visit https://numba.pydata.org/numba-doc/latest/reference/deprecation.html#deprecation-of-reflection-for-list-and-set-types\n",
      "\n",
      "File \"<ipython-input-89-1be68fe84ecf>\", line 2:\n",
      "@numba.njit\n",
      "def func_2(x):\n",
      "^\n",
      "\n",
      "  warnings.warn(NumbaPendingDeprecationWarning(msg, loc=loc))\n"
     ]
    },
    {
     "name": "stdout",
     "output_type": "stream",
     "text": [
      "Model evaluation time:    11.7635\n"
     ]
    }
   ],
   "source": [
    "# numba function with multiprocessing\n",
    "sampling_time, eval_time_nf_mp, (x, y) = evaluate_samples_parallel(cfg, func_2, SAMPLES_NUM)"
   ]
  },
  {
   "cell_type": "markdown",
   "id": "2df24dfe",
   "metadata": {},
   "source": [
    "Это несколько поломанный вариант - вероятно, можно было выжать больше, но мне не удалось починить."
   ]
  },
  {
   "cell_type": "code",
   "execution_count": 95,
   "id": "eede021f",
   "metadata": {},
   "outputs": [],
   "source": [
    "# parallelism via  numba.prange\n",
    "def evaluate_samples_numba_parallel(cfg, analysing_func, samples_num):\n",
    "    #samples generation\n",
    "    start = time.time()\n",
    "    samples = saltelli.sample(cfg, samples_num)\n",
    "    sampling_time = time.time() - start\n",
    "    print(\"Sampling time:         {:10.4f}\".format(sampling_time))\n",
    "    \n",
    "    num_procs = os.cpu_count()\n",
    "    #num_procs = 8\n",
    "    \n",
    "    # model evaluation\n",
    "    y = np.zeros([samples.shape[0]])\n",
    "    start = time.time()\n",
    "    for i in numba.prange(samples_num):\n",
    "        y[i] = analysing_func(samples[i])\n",
    "        \n",
    "        \n",
    "    eval_time = time.time() - start\n",
    "    print(\"Model evaluation time: {:10.4f}\".format(eval_time))\n",
    "    \n",
    "    return sampling_time, eval_time, (samples, y)"
   ]
  },
  {
   "cell_type": "code",
   "execution_count": 96,
   "id": "f577f1bc",
   "metadata": {},
   "outputs": [
    {
     "name": "stdout",
     "output_type": "stream",
     "text": [
      "Sampling time:            34.3390\n",
      "Model evaluation time:     7.6303\n"
     ]
    }
   ],
   "source": [
    "# default function with numba parallel\n",
    "sampling_time, eval_time_df_np, (x, y) = evaluate_samples_numba_parallel(cfg, func_1, SAMPLES_NUM)"
   ]
  },
  {
   "cell_type": "code",
   "execution_count": 97,
   "id": "c887031f",
   "metadata": {},
   "outputs": [
    {
     "name": "stdout",
     "output_type": "stream",
     "text": [
      "Sampling time:            34.4352\n",
      "Model evaluation time:     0.4147\n"
     ]
    }
   ],
   "source": [
    "# numba function with numba parallel\n",
    "sampling_time, eval_time_nf_np, (x, y) = evaluate_samples_numba_parallel(cfg, func_2, SAMPLES_NUM)"
   ]
  },
  {
   "cell_type": "markdown",
   "id": "77045ca7",
   "metadata": {},
   "source": [
    "Оба варианта с  numba.prange быстрее multithreading!"
   ]
  },
  {
   "cell_type": "markdown",
   "id": "8871b053",
   "metadata": {},
   "source": [
    "# Вывод"
   ]
  },
  {
   "cell_type": "code",
   "execution_count": 98,
   "id": "98a3534a",
   "metadata": {},
   "outputs": [
    {
     "name": "stdout",
     "output_type": "stream",
     "text": [
      "evaluation time without optimisation:                             60.22982478\n",
      "evaluation time for numba optimisation:                           3.15851569\n",
      "evaluation time for parallel by multiprocessing default function: 15.99625802\n",
      "evaluation time for parallel by multiprocessing numba function:   11.76346684\n",
      "evaluation time for parallel by numba.prange default function:    7.63034749\n",
      "evaluation time for parallel by numba.prange numba function:      0.41474485\n"
     ]
    }
   ],
   "source": [
    "print(\"evaluation time without optimisation:                             {:10.8f}\".format(eval_time_default))\n",
    "print(\"evaluation time for numba optimisation:                           {:10.8f}\".format(eval_time_numba))\n",
    "print(\"evaluation time for parallel by multiprocessing default function: {:10.8f}\".format(eval_time_df_mp))\n",
    "print(\"evaluation time for parallel by multiprocessing numba function:   {:10.8f}\".format(eval_time_nf_mp))\n",
    "print(\"evaluation time for parallel by numba.prange default function:    {:10.8f}\".format(eval_time_df_np))\n",
    "print(\"evaluation time for parallel by numba.prange numba function:      {:10.8f}\".format(eval_time_nf_np))"
   ]
  },
  {
   "cell_type": "code",
   "execution_count": 99,
   "id": "5477e174",
   "metadata": {},
   "outputs": [
    {
     "data": {
      "text/plain": [
       "([0, 1, 2, 3, 4, 5],\n",
       " [Text(0, 0, ''),\n",
       "  Text(0, 0, ''),\n",
       "  Text(0, 0, ''),\n",
       "  Text(0, 0, ''),\n",
       "  Text(0, 0, ''),\n",
       "  Text(0, 0, '')])"
      ]
     },
     "execution_count": 99,
     "metadata": {},
     "output_type": "execute_result"
    },
    {
     "data": {
      "image/png": "[encoded data removed]",
      "text/plain": [
       "<Figure size 864x576 with 1 Axes>"
      ]
     },
     "metadata": {},
     "output_type": "display_data"
    }
   ],
   "source": [
    "plt.bar(\n",
    "    [\n",
    "        \"evaluation time without optimisation\",\n",
    "        \"evaluation time for numba optimisation\",\n",
    "        \"evaluation time for parallel by multiprocessing default function\",\n",
    "        \"evaluation time for parallel by multiprocessing numba function\",\n",
    "        \"evaluation time for parallel by numba.prange default function\",\n",
    "        \"evaluation time for parallel by numba.prange numba function\",\n",
    "    ], [\n",
    "        eval_time_default,\n",
    "        eval_time_numba,\n",
    "        eval_time_df_mp,\n",
    "        eval_time_nf_mp,\n",
    "        eval_time_df_np,\n",
    "        eval_time_nf_np,\n",
    "    ] \n",
    ")\n",
    "plt.xticks(rotation=90)"
   ]
  },
  {
   "cell_type": "markdown",
   "id": "40d382a6",
   "metadata": {},
   "source": [
    "Интересно, что использование просто numba оказалось быстрее любого multiprocessing - видимо из-за GIL и долгой передачи данных между процессами."
   ]
  },
  {
   "cell_type": "code",
   "execution_count": null,
   "id": "034d08ec",
   "metadata": {},
   "outputs": [],
   "source": []
  }
 ],
 "metadata": {
  "kernelspec": {
   "display_name": "Python 3 (ipykernel)",
   "language": "python",
   "name": "python3"
  },
  "language_info": {
   "codemirror_mode": {
    "name": "ipython",
    "version": 3
   },
   "file_extension": ".py",
   "mimetype": "text/x-python",
   "name": "python",
   "nbconvert_exporter": "python",
   "pygments_lexer": "ipython3",
   "version": "3.6.13"
  }
 },
 "nbformat": 4,
 "nbformat_minor": 5
}
