{
 "cells": [
  {
   "cell_type": "markdown",
   "id": "18398624",
   "metadata": {},
   "source": [
    "# Домашнее задание 7:\n",
    "\n",
    "Зафиксируйте какую-либо многомерную скалярную функцию и реализуйте для неё анализ чувствительности по методу Соболя на Python с использованием библиотеки SALib.\n",
    "\n",
    "1) Проведите анализ чувствительности, проверьте сходимость, измерьте тайминги  \n",
    "2) Ускорьте вычисления Python с использованием любой из имеющихся возможностей (PyBind11, ctypes, cython, numba)  \n",
    "3) Попробуйте добавить параллелизм в вычисления  \n",
    "4) Оформите и представьте результаты  "
   ]
  },
  {
   "cell_type": "code",
   "execution_count": 31,
   "id": "ef696741",
   "metadata": {},
   "outputs": [],
   "source": [
    "import time\n",
    "import os\n",
    "import math\n",
    "import multiprocessing as mp\n",
    "import numba\n",
    "import numpy as np\n",
    "\n",
    "from SALib.sample import saltelli\n",
    "from SALib.analyze import sobol\n",
    "\n",
    "import matplotlib.pyplot as plt\n",
    "import seaborn as sns\n",
    "from matplotlib import rc\n",
    "sns.set_style(\"whitegrid\")\n",
    "sns.set_palette(\"colorblind\")\n",
    "sns.set(\n",
    "    rc={\n",
    "        'figure.figsize': (12, 8),\n",
    "    }\n",
    ")\n"
   ]
  },
  {
   "cell_type": "code",
   "execution_count": 32,
   "id": "c151c719",
   "metadata": {},
   "outputs": [],
   "source": [
    "def make_sensitivity_analysis(problem, eval_func, samples_num):\n",
    "    #samples generation\n",
    "    start = time.time()\n",
    "    samples = saltelli.sample(cfg, samples_num)\n",
    "    sampling_time = time.time() - start\n",
    "    print(\"Sampling time:         {:10.4f}\".format(sampling_time))\n",
    "\n",
    "    # model evaluation\n",
    "    y = np.zeros([samples.shape[0]])\n",
    "    start = time.time()\n",
    "    for i, x in enumerate(samples):\n",
    "        y[i] = analysing_func(x)\n",
    "    eval_time = time.time() - start\n",
    "    print(\"Model evaluation time: {:10.4f}\".format(eval_time))\n",
    "\n",
    "    # sobol analyze\n",
    "    start = time.time()\n",
    "    sa_result = sobol.analyze(cfg, y, parallel=False, print_to_console=True)\n",
    "    sa_time = time.time() - start\n",
    "    print(\"Analysis time:         {:10.4f}\".format(sa_time))\n",
    "\n",
    "    return sa_result, sampling_time, eval_time, sa_time\n",
    "\n",
    "\n",
    "def print_report(sa_result, sampling_time, eval_time, sa_time):\n",
    "    print(\"Sampling time:         {:10.4f}\".format(sampling_time))\n",
    "    print(\"Model evaluation time: {:10.4f}\".format(eval_time))\n",
    "    print(\"Analysis time:         {:10.4f}\".format(sa_time))\n",
    "\n",
    "    sa_result.plot()"
   ]
  },
  {
   "cell_type": "code",
   "execution_count": 39,
   "id": "ec838b32",
   "metadata": {},
   "outputs": [],
   "source": [
    "SAMPLES_NUM = 2 ** 10 # 1_000_000"
   ]
  },
  {
   "cell_type": "markdown",
   "id": "47d9024e",
   "metadata": {},
   "source": [
    "1. Проведите анализ чувствительности, проверьте сходимость, измерьте тайминги:"
   ]
  },
  {
   "cell_type": "code",
   "execution_count": 104,
   "id": "a77a4bc3",
   "metadata": {},
   "outputs": [],
   "source": [
    "def func_1(x):\n",
    "    return (\n",
    "        np.sin(x[0]) * (np.cos(x[2]) ** 3) +\n",
    "        np.cos(x[1]) * (np.sin(x[1]) ** 2) +\n",
    "        np.sin(x[2]) * (np.cos(x[0]) ** 4)\n",
    "    )\n",
    "\n",
    "cfg = {\n",
    "    'num_vars': 3,\n",
    "    'names': ['x0', 'x1', 'x2'],\n",
    "    'bounds': [\n",
    "        [-math.pi, math.pi],\n",
    "        [-math.pi, math.pi],\n",
    "        [-math.pi, math.pi]\n",
    "    ]\n",
    "}\n"
   ]
  },
  {
   "cell_type": "code",
   "execution_count": 105,
   "id": "565aaab7",
   "metadata": {},
   "outputs": [
    {
     "name": "stdout",
     "output_type": "stream",
     "text": [
      "Sampling time:             0.0498\n",
      "Model evaluation time:     0.0700\n",
      "          ST   ST_conf\n",
      "x0  0.624698  0.062091\n",
      "x1  0.175575  0.015148\n",
      "x2  0.801868  0.059326\n",
      "          S1   S1_conf\n",
      "x0  0.029739  0.064279\n",
      "x1  0.171235  0.035551\n",
      "x2  0.228802  0.081988\n",
      "                S2   S2_conf\n",
      "(x0, x1)  0.019946  0.070510\n",
      "(x0, x2)  0.588947  0.101561\n",
      "(x1, x2)  0.005259  0.058599\n",
      "Analysis time:             0.0255\n"
     ]
    },
    {
     "data": {
      "text/plain": [
       "array([<AxesSubplot:>, <AxesSubplot:>, <AxesSubplot:>], dtype=object)"
      ]
     },
     "execution_count": 105,
     "metadata": {},
     "output_type": "execute_result"
    },
    {
     "data": {
      "image/png": "[encoded data removed]",
      "text/plain": [
       "<Figure size 864x576 with 3 Axes>"
      ]
     },
     "metadata": {},
     "output_type": "display_data"
    }
   ],
   "source": [
    "sa_result, sampling_time, eval_time_default, sa_time = \\\n",
    "    make_sensitivity_analysis(cfg, func_1, SAMPLES_NUM)\n",
    "\n",
    "sa_result.plot()"
   ]
  },
  {
   "cell_type": "markdown",
   "id": "d0fa446c",
   "metadata": {},
   "source": [
    "2 Ускорьте вычисления Python с использованием любой из имеющихся возможностей (PyBind11, ctypes, cython, __numba__):"
   ]
  },
  {
   "cell_type": "code",
   "execution_count": 45,
   "id": "d7586bdd",
   "metadata": {},
   "outputs": [],
   "source": [
    "def evaluate_samples(cfg, eval_func, samples_num):\n",
    "    #samples generation\n",
    "    start = time.time()\n",
    "    samples = saltelli.sample(cfg, samples_num)\n",
    "    sampling_time = time.time() - start\n",
    "    print(\"Sampling time:         {:10.4f}\".format(sampling_time))\n",
    "\n",
    "    # model evaluation\n",
    "    y = np.zeros([samples.shape[0]])\n",
    "    start = time.time()\n",
    "    for i, x in enumerate(samples):\n",
    "        y[i] = analysing_func(x)\n",
    "    eval_time = time.time() - start\n",
    "    print(\"Model evaluation time: {:10.4f}\".format(eval_time))\n",
    "    \n",
    "    return sampling_time, eval_time, (x, y)"
   ]
  },
  {
   "cell_type": "code",
   "execution_count": 46,
   "id": "f66bcf12",
   "metadata": {},
   "outputs": [],
   "source": [
    "@numba.njit\n",
    "def func_2(x):\n",
    "    return (\n",
    "        np.sin(x[0]) * (np.cos(x[2]) ** 3) +\n",
    "        np.cos(x[1]) * (np.sin(x[1]) ** 2) +\n",
    "        np.sin(x[2]) * (np.cos(x[0]) ** 4)\n",
    "    )"
   ]
  },
  {
   "cell_type": "code",
   "execution_count": 48,
   "id": "3169e8ee",
   "metadata": {},
   "outputs": [
    {
     "name": "stdout",
     "output_type": "stream",
     "text": [
      "Sampling time:             0.0497\n",
      "Model evaluation time:     0.0687\n"
     ]
    }
   ],
   "source": [
    "sampling_time, eval_time_numba, _ = evaluate_samples(cfg, func_2, SAMPLES_NUM)"
   ]
  },
  {
   "cell_type": "markdown",
   "id": "dfba992a",
   "metadata": {},
   "source": [
    "3. Попробуйте добавить параллелизм в вычисления:"
   ]
  },
  {
   "cell_type": "code",
   "execution_count": 97,
   "id": "ba4ed120",
   "metadata": {},
   "outputs": [],
   "source": [
    "def evaluate_samples_parallel(cfg, eval_func, samples_num):\n",
    "    #samples generation\n",
    "    start = time.time()\n",
    "    samples = saltelli.sample(cfg, samples_num)\n",
    "    sampling_time = time.time() - start\n",
    "    print(\"Sampling time:         {:10.4f}\".format(sampling_time))\n",
    "    \n",
    "    num_procs = os.cpu_count()\n",
    "    #num_procs = 8\n",
    "    \n",
    "    # model evaluation\n",
    "    y = np.zeros([samples.shape[0]])\n",
    "    start = time.time()\n",
    "    with mp.Pool(num_procs) as pool:\n",
    "        y = pool.map(eval_func, samples.tolist())\n",
    "        \n",
    "        \n",
    "    eval_time = time.time() - start\n",
    "    print(\"Model evaluation time: {:10.4f}\".format(eval_time))\n",
    "    \n",
    "    return sampling_time, eval_time, (samples, y)"
   ]
  },
  {
   "cell_type": "code",
   "execution_count": 101,
   "id": "f9012d43",
   "metadata": {},
   "outputs": [
    {
     "name": "stdout",
     "output_type": "stream",
     "text": [
      "Sampling time:             0.0335\n",
      "Model evaluation time:     0.1666\n"
     ]
    }
   ],
   "source": [
    "sampling_time, eval_time_parallel, (x, y) = evaluate_samples_parallel(cfg, func_1, SAMPLES_NUM)"
   ]
  },
  {
   "cell_type": "code",
   "execution_count": 103,
   "id": "3af781da",
   "metadata": {},
   "outputs": [
    {
     "data": {
      "text/plain": [
       "[]"
      ]
     },
     "execution_count": 103,
     "metadata": {},
     "output_type": "execute_result"
    }
   ],
   "source": [
    "[null for x, y in zip(x, y) if func_1(x) != y]"
   ]
  },
  {
   "cell_type": "code",
   "execution_count": null,
   "id": "c301ab27",
   "metadata": {},
   "outputs": [],
   "source": [
    "sampling_time, eval_time_numba_parallel, (x, y) = evaluate_samples_parallel(cfg, func_2, SAMPLES_NUM)"
   ]
  }
 ],
 "metadata": {
  "kernelspec": {
   "display_name": "Python 3 (ipykernel)",
   "language": "python",
   "name": "python3"
  },
  "language_info": {
   "codemirror_mode": {
    "name": "ipython",
    "version": 3
   },
   "file_extension": ".py",
   "mimetype": "text/x-python",
   "name": "python",
   "nbconvert_exporter": "python",
   "pygments_lexer": "ipython3",
   "version": "3.6.13"
  }
 },
 "nbformat": 4,
 "nbformat_minor": 5
}
